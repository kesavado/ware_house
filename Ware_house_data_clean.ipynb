{
 "cells": [
  {
   "cell_type": "code",
   "execution_count": null,
   "id": "75323131",
   "metadata": {},
   "outputs": [],
   "source": [
    "import pandas as pd\n",
    "import math\n",
    "dat_1 = pd.read_csv(\"2019-1.csv\")\n",
    "dat_2 = pd.read_csv(\"2019-2.csv\")\n",
    "dat_3 = pd.read_csv(\"2019-3.csv\")"
   ]
  },
  {
   "cell_type": "code",
   "execution_count": null,
   "id": "0fe13bd1",
   "metadata": {},
   "outputs": [],
   "source": [
    "## refining the data file into the required data and modifying it to load into the SQL tables.\n",
    "\n",
    "dat_1[[\"co-ordinates\",\"long\",\"lat\"]]= dat_1[\"store_location\"].str.split(\" \",expand = True)\n",
    "dat_1[[\"brac\",\"long\"]]= dat_1[\"long\"].str.split(\"(\",expand = True)\n",
    "dat_1[[\"lat\",\"brack\"]]= dat_1[\"lat\"].str.split(\")\",expand = True)\n",
    "dat_1[[\"invoice\",\"item_number\"]] = dat_1[\"invoice_and_item_number\"].str.split(\" \",expand=True)\n",
    "d1=dat_1.drop(columns=['brac','co-ordinates','brack','store_location','invoice','item_number',\n",
    "                       'county_number','county','bottle_volume_ml','state_bottle_cost','volume_sold_liters',\n",
    "                       'volume_sold_gallons','category_name','address','city','vendor_name','item_description',\n",
    "                       'store_name','address'])\n",
    "for i in range (0,len(d1.columns)):\n",
    "    d1.dropna(subset=[sorted(d1)[i]],inplace=True)\n",
    "\n",
    "d1 = d1.rename(columns={'date':'data_date','long':'longi'}) #changing the sql default variables "
   ]
  },
  {
   "cell_type": "code",
   "execution_count": null,
   "id": "8d787cff",
   "metadata": {},
   "outputs": [],
   "source": [
    "## refining the data file into the required data and modifying it to load into the SQL tables.\n",
    "dat_2[[\"co-ordinates\",\"long\",\"lat\"]]= dat_2[\"store_location\"].str.split(\" \",expand = True)\n",
    "dat_2[[\"brac\",\"long\"]]= dat_2[\"long\"].str.split(\"(\",expand = True)\n",
    "dat_2[[\"lat\",\"brack\"]]= dat_2[\"lat\"].str.split(\")\",expand = True)\n",
    "dat_2[[\"invoice\",\"item_number\"]] = dat_1[\"invoice_and_item_number\"].str.split(\" \",expand=True)\n",
    "d2=dat_2.drop(columns=['brac','co-ordinates','brack','store_location','invoice_and_item_number',\n",
    "                       'county_number','county','bottle_volume_ml','state_bottle_cost','volume_sold_liters',\n",
    "                       'volume_sold_gallons','category_name','address','city','vendor_name','item_description',\n",
    "                       'store_name','address'])\n",
    "for i in range (0,len(d2.columns)):\n",
    "    d2.dropna(subset=[sorted(d2)[i]],inplace=True)\n",
    "\n",
    "d2 = d2.rename(columns={'date':'data_date','long':'longi'})  #changing the sql default variables "
   ]
  },
  {
   "cell_type": "code",
   "execution_count": null,
   "id": "b4c2d285",
   "metadata": {},
   "outputs": [],
   "source": [
    "## refining the data file into the required data and modifying it to load into the SQL tables.\n",
    "dat_3[[\"co-ordinates\",\"long\",\"lat\"]]= dat_3[\"store_location\"].str.split(\" \",expand = True)\n",
    "dat_3[[\"brac\",\"long\"]]= dat_3[\"long\"].str.split(\"(\",expand = True)\n",
    "dat_3[[\"lat\",\"brack\"]]= dat_3[\"lat\"].str.split(\")\",expand = True)\n",
    "dat_3[[\"invoice\",\"item_number\"]] = dat_1[\"invoice_and_item_number\"].str.split(\" \",expand=True)\n",
    "d3=dat_3.drop(columns=['brac','co-ordinates','brack','store_location','invoice_and_item_number',\n",
    "                       'county_number','county','bottle_volume_ml','state_bottle_cost','volume_sold_liters',\n",
    "                       'volume_sold_gallons','category_name','address','city','vendor_name','item_description',\n",
    "                       'store_name','address'])\n",
    "for i in range (0,len(d3.columns)):\n",
    "    d3.dropna(subset=[sorted(d3)[i]],inplace=True)\n",
    "\n",
    "d3 = d3.rename(columns={'date':'data_date','long':'longi'})  #changing the sql default variables "
   ]
  },
  {
   "cell_type": "code",
   "execution_count": null,
   "id": "c4c45666",
   "metadata": {},
   "outputs": [],
   "source": [
    "c=d1.append(d2, ignore_index=True)\n",
    "cross = c.append(d3, ignore_index=True)  # combining all the data frames to one and writing into a file\n",
    "cross.to_csv(\"2019_data.csv\",index = False)"
   ]
  },
  {
   "cell_type": "code",
   "execution_count": null,
   "id": "a3e672e5",
   "metadata": {},
   "outputs": [],
   "source": [
    "### normalization the data.\n",
    "## getting the unique values for the dealer,botteles, there capacity and location\n",
    "\n",
    "dat_4 = dat_1.append(dat_2,ignore_index=True)\n",
    "dat_5 = dat_4.append(dat_3,ignore_index=True)\n",
    "for i in range (0,len(dat_5.columns)):\n",
    "    dat_5.drop_duplicates(subset=[sorted(dat_5)[i]],inplace=True)\n",
    "    \n",
    "    \n",
    "store = dat_5.loc[:,[\"store_number\",\"store_name\"]]\n",
    "items = dat_5.loc[:,[\"item_number\",\"item_description\",\"bottle_volume_ml\"]]\n",
    "category = dat_5.loc[:,[\"category\",\"category_name\"]]\n",
    "co_ordinates = dat_5.loc[:,[\"longi\",\"lat\"]]\n",
    "\n",
    "store.to_csv[\"stores.csv\",index=False]\n",
    "items.to_csv[\"items.csv\",index=False]\n",
    "category.to_csv[\"category.csv\",index=False]\n",
    "co_ordinates.to_csv[\"co_ordinates.csv\",index=False]\n"
   ]
  },
  {
   "cell_type": "code",
   "execution_count": null,
   "id": "d429f730",
   "metadata": {},
   "outputs": [],
   "source": [
    "#converting the co-ordinates from spherical co-ordinates to 2-d co-ordinates by projection method\n",
    "\n",
    "def cartesian(longitude,latitude):\n",
    "   # relative to centre of the earth r = 6378137#\n",
    "    X = 6378137.0* math.cos(longitude*math.pi/180) * math.sin(latitude*math.pi/180)\n",
    "    Y = 6378137.0* math.sin(longitude*math.pi/180) * math.sin(latitude*math.pi/180)  \n",
    "    return X,Y\n",
    "\n",
    "co_or = pd.read_csv(\"co-ordinates.csv\")\n",
    "\n",
    "locations=[]\n",
    "for i in range(1,len(co_or)):\n",
    "    X,Y = cartesian(co_or.iat[i,0],co_or.iat[i,1])\n",
    "    locations.append([X,Y])\n",
    "\n",
    "df= pd.DataFrame(locations)\n",
    "df.to_csv(\"XY-Values.csv\",index=True)"
   ]
  }
 ],
 "metadata": {
  "kernelspec": {
   "display_name": "Python 3 (ipykernel)",
   "language": "python",
   "name": "python3"
  },
  "language_info": {
   "codemirror_mode": {
    "name": "ipython",
    "version": 3
   },
   "file_extension": ".py",
   "mimetype": "text/x-python",
   "name": "python",
   "nbconvert_exporter": "python",
   "pygments_lexer": "ipython3",
   "version": "3.9.7"
  }
 },
 "nbformat": 4,
 "nbformat_minor": 5
}
